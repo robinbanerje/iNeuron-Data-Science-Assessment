{
  "cells": [
    {
      "cell_type": "markdown",
      "metadata": {
        "id": "2u73JOZIWIXy"
      },
      "source": [
        "# Question: 1\n",
        "\n",
        "1. Write an efficient algorithm that searches for a value target in an m x n integer matrix. This matrix has the following properties:\n",
        "\n",
        "Integers in each row are sorted from right to left.\n",
        "\n",
        "The first integer of each row is greater than the last integer of the previous row.\n",
        "\n",
        "Example-:\n",
        "\n",
        "Input: matrix = [[1,3,5,7],[10,11,16,20],[23,30,34,60]], target = 3\n",
        "\n",
        "Output: True"
      ]
    },
    {
      "cell_type": "code",
      "execution_count": 4,
      "metadata": {
        "colab": {
          "base_uri": "https://localhost:8080/"
        },
        "id": "RVj3pYwoPZz1",
        "outputId": "97425f4f-b3f8-4138-813f-e6ef16685c50"
      },
      "outputs": [],
      "source": [
        "def binary_search(matrix, target):\n",
        "    row, col = 0, len(matrix[0]) - 1\n",
        "    while row < len(matrix) and col >= 0:\n",
        "        if matrix[row][col] == target:\n",
        "            return True\n",
        "        elif matrix[row][col] < target:\n",
        "            row += 1\n",
        "        else:\n",
        "            col -= 1\n",
        "    return False\n",
        "\n",
        "# Time Complexity: O(N + M), N = number of row and M = number of column\n",
        "#Space Complexity: O(1)"
      ]
    },
    {
      "cell_type": "code",
      "execution_count": 5,
      "metadata": {},
      "outputs": [
        {
          "name": "stdout",
          "output_type": "stream",
          "text": [
            "Output: True\n"
          ]
        }
      ],
      "source": [
        "# Example usage\n",
        "matrix = [[1,3,5,7],[10,11,16,20],[23,30,34,60]]\n",
        "target = 3\n",
        "result = binary_search(matrix, target)\n",
        "print(f\"Output: {result}\")"
      ]
    },
    {
      "cell_type": "markdown",
      "metadata": {},
      "source": [
        "# Question: 2\n",
        "\n",
        "2.  Write a program that takes a string as input, and counts the frequency of each word in the string, there might  be repeated characters in the string. Your task is to find the highest frequency and returns the length of the  highest-frequency word. \n",
        "\n",
        "Note - You have to write at least 2 additional test cases in which your program will run successfully and provide  an explanation for the same.  \n",
        "\n",
        "Example input - string = “write write write all the number from from from 1 to 100” \n",
        "\n",
        "Example output - 5 \n",
        "\n",
        "Explanation - From the given string we can note that the most frequent words are “write” and “from” and  the maximum value of both the values is “write” and its corresponding length is 5 "
      ]
    },
    {
      "cell_type": "code",
      "execution_count": 6,
      "metadata": {},
      "outputs": [],
      "source": [
        "def most_frequent_word_length(string):\n",
        "\n",
        "    # Split string into words, removing punctuation and converting to lowercase\n",
        "    words = string.lower().split()\n",
        "\n",
        "    # dictionary to store the word frequencies\n",
        "    word_counts = {}\n",
        "    for word in words:\n",
        "        if word in word_counts:\n",
        "            word_counts[word] += 1\n",
        "        else:\n",
        "            word_counts[word] = 1\n",
        "\n",
        "    # word with the highest frequency\n",
        "    max_frequency = max(word_counts.values())\n",
        "\n",
        "    most_frequent_words = []\n",
        "    # iterate over the word_counts dictionary to get most lenthy words\n",
        "    for word, count in word_counts.items():\n",
        "        if count == max_frequency:\n",
        "            most_frequent_words.append(word)\n",
        "\n",
        "    # length of the word with the highest frequency\n",
        "    return len(max(most_frequent_words, key=len))"
      ]
    },
    {
      "cell_type": "code",
      "execution_count": 15,
      "metadata": {},
      "outputs": [
        {
          "name": "stdout",
          "output_type": "stream",
          "text": [
            "5\n"
          ]
        },
        {
          "data": {
            "text/plain": [
              "'\\nFrom the given string we can note that the most frequent words are “write” and “from” and  the maximum value of both the values is “write” and its corresponding length is 5\\n'"
            ]
          },
          "execution_count": 15,
          "metadata": {},
          "output_type": "execute_result"
        }
      ],
      "source": [
        "# test case 1\n",
        "string1 = \"write write write all the number from from from 1 to 100\"\n",
        "print(most_frequent_word_length(string1))\n",
        "'''\n",
        "From the given string we can note that the most frequent words are “write” and “from” and  the maximum value of both the values is “write” and its corresponding length is 5\n",
        "'''"
      ]
    },
    {
      "cell_type": "code",
      "execution_count": 16,
      "metadata": {},
      "outputs": [
        {
          "name": "stdout",
          "output_type": "stream",
          "text": [
            "4\n"
          ]
        },
        {
          "data": {
            "text/plain": [
              "'\\nFrom the given string we can note that the most frequent word is \"test\" and  the maximum value of corresponding length is 4\\n'"
            ]
          },
          "execution_count": 16,
          "metadata": {},
          "output_type": "execute_result"
        }
      ],
      "source": [
        "# test case 2\n",
        "\n",
        "string2 = \"test test test the code\"\n",
        "print(most_frequent_word_length(string2))\n",
        "'''\n",
        "From the given string we can note that the most frequent word is \"test\" and  the maximum value of corresponding length is 4\n",
        "'''"
      ]
    },
    {
      "cell_type": "code",
      "execution_count": 17,
      "metadata": {},
      "outputs": [
        {
          "name": "stdout",
          "output_type": "stream",
          "text": [
            "8\n"
          ]
        },
        {
          "data": {
            "text/plain": [
              "'\\nFrom the given string we can note that the most frequent words are \"robin\" and \"banerjee\" and  the maximum value of both the values is \"banerjee\" and its corresponding length is 8\\n'"
            ]
          },
          "execution_count": 17,
          "metadata": {},
          "output_type": "execute_result"
        }
      ],
      "source": [
        "# test case 3\n",
        "\n",
        "string3 = \"robin banerjee robin banerjee robin banerjee is coding\"\n",
        "print(most_frequent_word_length(string3))\n",
        "'''\n",
        "From the given string we can note that the most frequent words are \"robin\" and \"banerjee\" and  the maximum value of both the values is \"banerjee\" and its corresponding length is 8\n",
        "'''"
      ]
    },
    {
      "cell_type": "code",
      "execution_count": null,
      "metadata": {},
      "outputs": [],
      "source": []
    }
  ],
  "metadata": {
    "colab": {
      "provenance": []
    },
    "kernelspec": {
      "display_name": "Python 3",
      "name": "python3"
    },
    "language_info": {
      "codemirror_mode": {
        "name": "ipython",
        "version": 3
      },
      "file_extension": ".py",
      "mimetype": "text/x-python",
      "name": "python",
      "nbconvert_exporter": "python",
      "pygments_lexer": "ipython3",
      "version": "3.11.3"
    }
  },
  "nbformat": 4,
  "nbformat_minor": 0
}

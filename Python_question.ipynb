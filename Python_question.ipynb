{
  "cells": [
    {
      "cell_type": "markdown",
      "metadata": {
        "id": "2u73JOZIWIXy"
      },
      "source": [
        "# Question: 1\n",
        "\n",
        "1.Write an efficient algorithm that searches for a value target in an m x n integer matrix. This matrix has the following properties:\n",
        "\n",
        "Integers in each row are sorted from right to left.\n",
        "\n",
        "The first integer of each row is greater than the last integer of the previous row.\n",
        "\n",
        "Example-:\n",
        "\n",
        "Input: matrix = [[1,3,5,7],[10,11,16,20],[23,30,34,60]], target = 3\n",
        "\n",
        "Output: True"
      ]
    },
    {
      "cell_type": "code",
      "execution_count": 3,
      "metadata": {
        "colab": {
          "base_uri": "https://localhost:8080/"
        },
        "id": "RVj3pYwoPZz1",
        "outputId": "97425f4f-b3f8-4138-813f-e6ef16685c50"
      },
      "outputs": [
        {
          "name": "stdout",
          "output_type": "stream",
          "text": [
            "Output: True\n"
          ]
        }
      ],
      "source": [
        "def binary_search(matrix, target):\n",
        "    row, col = 0, len(matrix[0]) - 1\n",
        "    while row < len(matrix) and col >= 0:\n",
        "        if matrix[row][col] == target:\n",
        "            return True\n",
        "        elif matrix[row][col] < target:\n",
        "            row += 1\n",
        "        else:\n",
        "            col -= 1\n",
        "    return False\n",
        "\n",
        "# Example usage\n",
        "matrix = [[1,3,5,7],[10,11,16,20],[23,30,34,60]]\n",
        "target = 3\n",
        "result = binary_search(matrix, target)\n",
        "print(f\"Output: {result}\")\n",
        "\n",
        "# Time Complexity: O(N + M), N = number of row and M = number of column\n",
        "#Space Complexity: O(1)"
      ]
    },
    {
      "cell_type": "code",
      "execution_count": null,
      "metadata": {
        "id": "YeBZFsfcWDAM"
      },
      "outputs": [],
      "source": []
    }
  ],
  "metadata": {
    "colab": {
      "provenance": []
    },
    "kernelspec": {
      "display_name": "Python 3",
      "name": "python3"
    },
    "language_info": {
      "name": "python",
      "version": "3.9.0"
    }
  },
  "nbformat": 4,
  "nbformat_minor": 0
}
